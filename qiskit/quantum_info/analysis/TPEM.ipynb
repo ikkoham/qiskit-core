{
 "cells": [
  {
   "cell_type": "code",
   "execution_count": 1,
   "metadata": {},
   "outputs": [],
   "source": [
    "import qiskit\n",
    "\n",
    "from qiskit import IBMQ, QuantumCircuit, execute, Aer\n",
    "from qiskit.quantum_info.analysis.data import marginal_counts\n",
    "from qiskit.quantum_info.analysis.readout_error_mitigation import backend_readout_error_mitigation"
   ]
  },
  {
   "cell_type": "code",
   "execution_count": 2,
   "metadata": {},
   "outputs": [
    {
     "name": "stderr",
     "output_type": "stream",
     "text": [
      "/Users/aa406165/Git/qiskit-core/.venv/lib/python3.8/site-packages/qiskit/providers/ibmq/ibmqfactory.py:192: UserWarning: Timestamps in IBMQ backend properties, jobs, and job results are all now in local time instead of UTC.\n",
      "  warnings.warn('Timestamps in IBMQ backend properties, jobs, and job results '\n"
     ]
    }
   ],
   "source": [
    "provider = IBMQ.load_account()"
   ]
  },
  {
   "cell_type": "code",
   "execution_count": 3,
   "metadata": {},
   "outputs": [],
   "source": [
    "backend = provider.get_backend('ibmq_vigo')"
   ]
  },
  {
   "cell_type": "code",
   "execution_count": 4,
   "metadata": {},
   "outputs": [
    {
     "data": {
      "text/plain": [
       "{'00000': 260,\n",
       " '00001': 286,\n",
       " '10000': 271,\n",
       " '10001': 251,\n",
       " '10010': 227,\n",
       " '10011': 238,\n",
       " '10100': 238,\n",
       " '10101': 240,\n",
       " '10110': 268,\n",
       " '10111': 272,\n",
       " '11000': 254,\n",
       " '11001': 254,\n",
       " '11010': 243,\n",
       " '11011': 267,\n",
       " '11100': 245,\n",
       " '11101': 272,\n",
       " '11110': 255,\n",
       " '11111': 251,\n",
       " '00010': 279,\n",
       " '00011': 234,\n",
       " '00100': 262,\n",
       " '00101': 231,\n",
       " '00110': 258,\n",
       " '00111': 255,\n",
       " '01000': 253,\n",
       " '01001': 271,\n",
       " '01010': 260,\n",
       " '01011': 273,\n",
       " '01100': 242,\n",
       " '01101': 252,\n",
       " '01110': 279,\n",
       " '01111': 251}"
      ]
     },
     "execution_count": 4,
     "metadata": {},
     "output_type": "execute_result"
    }
   ],
   "source": [
    "qc = QuantumCircuit(5)\n",
    "qc.h(range(5))\n",
    "qc.measure_all()\n",
    "job = execute(qc, Aer.get_backend('qasm_simulator'), shots=8192)\n",
    "result = job.result()\n",
    "result.get_counts()"
   ]
  },
  {
   "cell_type": "code",
   "execution_count": 5,
   "metadata": {},
   "outputs": [
    {
     "data": {
      "text/plain": [
       "{'00000': 255,\n",
       " '00001': 285,\n",
       " '10000': 283,\n",
       " '10001': 279,\n",
       " '10010': 256,\n",
       " '10011': 220,\n",
       " '10100': 268,\n",
       " '10101': 230,\n",
       " '10110': 226,\n",
       " '10111': 252,\n",
       " '11000': 268,\n",
       " '11001': 268,\n",
       " '11010': 242,\n",
       " '11011': 223,\n",
       " '11100': 268,\n",
       " '11101': 207,\n",
       " '11110': 242,\n",
       " '11111': 200,\n",
       " '00010': 250,\n",
       " '00011': 235,\n",
       " '00100': 259,\n",
       " '00101': 278,\n",
       " '00110': 246,\n",
       " '00111': 242,\n",
       " '01000': 320,\n",
       " '01001': 287,\n",
       " '01010': 260,\n",
       " '01011': 266,\n",
       " '01100': 288,\n",
       " '01101': 289,\n",
       " '01110': 264,\n",
       " '01111': 236}"
      ]
     },
     "execution_count": 5,
     "metadata": {},
     "output_type": "execute_result"
    }
   ],
   "source": [
    "qc = QuantumCircuit(5)\n",
    "qc.h(range(5))\n",
    "qc.measure_all()\n",
    "job = execute(qc, backend, shots=8192)\n",
    "result = job.result()\n",
    "result.get_counts()"
   ]
  },
  {
   "cell_type": "code",
   "execution_count": 6,
   "metadata": {},
   "outputs": [
    {
     "data": {
      "text/plain": [
       "{'00000': 252.89675960775628,\n",
       " '00001': 287.63323087957303,\n",
       " '00010': 249.75896876332158,\n",
       " '00011': 232.25378550089837,\n",
       " '00100': 258.6155613505997,\n",
       " '00101': 280.35260504320456,\n",
       " '00110': 245.50117240022206,\n",
       " '00111': 240.40562334101247,\n",
       " '01000': 325.7041537534086,\n",
       " '01001': 287.80582336147853,\n",
       " '01010': 257.76630167669936,\n",
       " '01011': 267.0708308885369,\n",
       " '01100': 289.51448630568865,\n",
       " '01101': 293.1485977791375,\n",
       " '01110': 264.1207399309406,\n",
       " '01111': 233.57584074532534,\n",
       " '10000': 285.2241679053143,\n",
       " '10001': 282.24678471215094,\n",
       " '10010': 256.0236468780302,\n",
       " '10011': 216.30372286041785,\n",
       " '10100': 270.2348143454711,\n",
       " '10101': 227.48996677607025,\n",
       " '10110': 222.7855553613619,\n",
       " '10111': 255.00960101056626,\n",
       " '11000': 267.7390171921506,\n",
       " '11001': 270.1456832986706,\n",
       " '11010': 240.50198924172142,\n",
       " '11011': 220.40874003725187,\n",
       " '11100': 269.3701231643857,\n",
       " '11101': 203.84351736659198,\n",
       " '11110': 241.26295028619631,\n",
       " '11111': 197.28523823585206}"
      ]
     },
     "execution_count": 6,
     "metadata": {},
     "output_type": "execute_result"
    }
   ],
   "source": [
    "backend_readout_error_mitigation(result, backend)"
   ]
  },
  {
   "cell_type": "markdown",
   "metadata": {},
   "source": [
    "## Readout Error"
   ]
  },
  {
   "cell_type": "code",
   "execution_count": 7,
   "metadata": {},
   "outputs": [
    {
     "data": {
      "text/plain": [
       "[{'00000': 7939,\n",
       "  '00001': 65,\n",
       "  '10000': 37,\n",
       "  '10100': 2,\n",
       "  '11000': 9,\n",
       "  '00010': 52,\n",
       "  '00011': 6,\n",
       "  '00100': 36,\n",
       "  '00101': 1,\n",
       "  '01000': 45},\n",
       " {'10011': 7,\n",
       "  '10101': 7,\n",
       "  '10110': 11,\n",
       "  '10111': 171,\n",
       "  '11000': 1,\n",
       "  '11001': 17,\n",
       "  '11010': 2,\n",
       "  '11011': 200,\n",
       "  '11100': 15,\n",
       "  '11101': 438,\n",
       "  '11110': 146,\n",
       "  '11111': 6971,\n",
       "  '00101': 1,\n",
       "  '00111': 18,\n",
       "  '01001': 1,\n",
       "  '01011': 2,\n",
       "  '01101': 10,\n",
       "  '01110': 2,\n",
       "  '01111': 172}]"
      ]
     },
     "execution_count": 7,
     "metadata": {},
     "output_type": "execute_result"
    }
   ],
   "source": [
    "n_qubits = backend.configuration().n_qubits\n",
    "qc0 = QuantumCircuit(n_qubits)\n",
    "qc0.measure_all()\n",
    "qc1 = QuantumCircuit(n_qubits)\n",
    "qc1.x(range(n_qubits))\n",
    "qc1.measure_all()\n",
    "job = execute([qc0, qc1], backend, shots=8192)\n",
    "result = job.result()\n",
    "result.get_counts()"
   ]
  },
  {
   "cell_type": "code",
   "execution_count": 8,
   "metadata": {},
   "outputs": [],
   "source": [
    "er01 = []\n",
    "for i in range(n_qubits):\n",
    "    marginal = marginal_counts(result.get_counts()[0], [i])\n",
    "    er01.append(marginal['1']/sum(marginal.values()))\n",
    "er10 = []\n",
    "for i in range(n_qubits):\n",
    "    marginal = marginal_counts(result.get_counts()[1], [i])\n",
    "    er10.append(marginal['0']/sum(marginal.values()))"
   ]
  },
  {
   "cell_type": "code",
   "execution_count": 9,
   "metadata": {},
   "outputs": [
    {
     "data": {
      "text/plain": [
       "[0.01519775390625,\n",
       " 0.033447265625,\n",
       " 0.01641845703125,\n",
       " 0.01641845703125,\n",
       " 0.0155029296875]"
      ]
     },
     "execution_count": 9,
     "metadata": {},
     "output_type": "execute_result"
    }
   ],
   "source": [
    "[(a+b)/2 for a, b in zip(er01, er10)]"
   ]
  },
  {
   "cell_type": "code",
   "execution_count": 10,
   "metadata": {},
   "outputs": [
    {
     "data": {
      "text/plain": [
       "[0.010000000000000009,\n",
       " 0.038999999999999924,\n",
       " 0.01200000000000001,\n",
       " 0.019000000000000017,\n",
       " 0.018000000000000016]"
      ]
     },
     "execution_count": 10,
     "metadata": {},
     "output_type": "execute_result"
    }
   ],
   "source": [
    "[backend.properties().readout_error(i) for i in range(5)]"
   ]
  }
 ],
 "metadata": {
  "kernelspec": {
   "display_name": "Python 3",
   "language": "python",
   "name": "python3"
  },
  "language_info": {
   "codemirror_mode": {
    "name": "ipython",
    "version": 3
   },
   "file_extension": ".py",
   "mimetype": "text/x-python",
   "name": "python",
   "nbconvert_exporter": "python",
   "pygments_lexer": "ipython3",
   "version": "3.8.5"
  }
 },
 "nbformat": 4,
 "nbformat_minor": 4
}
