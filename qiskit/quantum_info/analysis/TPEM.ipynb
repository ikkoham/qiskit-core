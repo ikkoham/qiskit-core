{
 "cells": [
  {
   "cell_type": "code",
   "execution_count": 1,
   "metadata": {},
   "outputs": [],
   "source": [
    "import qiskit\n",
    "\n",
    "from qiskit import IBMQ, QuantumCircuit, execute, Aer\n",
    "from qiskit.quantum_info.analysis.data import marginal_counts\n",
    "from qiskit.quantum_info.analysis.readout_error_mitigation import backend_readout_error_mitigation"
   ]
  },
  {
   "cell_type": "code",
   "execution_count": 2,
   "metadata": {},
   "outputs": [
    {
     "name": "stderr",
     "output_type": "stream",
     "text": [
      "/Users/aa406165/Git/qiskit-core/.venv/lib/python3.8/site-packages/qiskit/providers/ibmq/ibmqfactory.py:192: UserWarning: Timestamps in IBMQ backend properties, jobs, and job results are all now in local time instead of UTC.\n",
      "  warnings.warn('Timestamps in IBMQ backend properties, jobs, and job results '\n"
     ]
    }
   ],
   "source": [
    "provider = IBMQ.load_account()"
   ]
  },
  {
   "cell_type": "code",
   "execution_count": 3,
   "metadata": {},
   "outputs": [],
   "source": [
    "backend = provider.get_backend('ibmq_vigo')"
   ]
  },
  {
   "cell_type": "code",
   "execution_count": 4,
   "metadata": {},
   "outputs": [
    {
     "data": {
      "text/plain": [
       "{'00000': 241,\n",
       " '00001': 257,\n",
       " '10000': 242,\n",
       " '10001': 259,\n",
       " '10010': 250,\n",
       " '10011': 219,\n",
       " '10100': 261,\n",
       " '10101': 246,\n",
       " '10110': 270,\n",
       " '10111': 230,\n",
       " '11000': 249,\n",
       " '11001': 239,\n",
       " '11010': 243,\n",
       " '11011': 251,\n",
       " '11100': 273,\n",
       " '11101': 242,\n",
       " '11110': 286,\n",
       " '11111': 237,\n",
       " '00010': 248,\n",
       " '00011': 256,\n",
       " '00100': 255,\n",
       " '00101': 268,\n",
       " '00110': 305,\n",
       " '00111': 227,\n",
       " '01000': 287,\n",
       " '01001': 247,\n",
       " '01010': 286,\n",
       " '01011': 257,\n",
       " '01100': 260,\n",
       " '01101': 277,\n",
       " '01110': 276,\n",
       " '01111': 248}"
      ]
     },
     "execution_count": 4,
     "metadata": {},
     "output_type": "execute_result"
    }
   ],
   "source": [
    "qc = QuantumCircuit(5)\n",
    "qc.h(range(5))\n",
    "qc.measure_all()\n",
    "job = execute(qc, Aer.get_backend('qasm_simulator'), shots=8192)\n",
    "result = job.result()\n",
    "result.get_counts()"
   ]
  },
  {
   "cell_type": "code",
   "execution_count": 5,
   "metadata": {},
   "outputs": [
    {
     "data": {
      "text/plain": [
       "{'00000': 330,\n",
       " '00001': 281,\n",
       " '10000': 291,\n",
       " '10001': 259,\n",
       " '10010': 257,\n",
       " '10011': 243,\n",
       " '10100': 281,\n",
       " '10101': 277,\n",
       " '10110': 245,\n",
       " '10111': 222,\n",
       " '11000': 264,\n",
       " '11001': 258,\n",
       " '11010': 223,\n",
       " '11011': 223,\n",
       " '11100': 256,\n",
       " '11101': 215,\n",
       " '11110': 232,\n",
       " '11111': 217,\n",
       " '00010': 292,\n",
       " '00011': 240,\n",
       " '00100': 278,\n",
       " '00101': 258,\n",
       " '00110': 255,\n",
       " '00111': 256,\n",
       " '01000': 260,\n",
       " '01001': 264,\n",
       " '01010': 259,\n",
       " '01011': 245,\n",
       " '01100': 282,\n",
       " '01101': 256,\n",
       " '01110': 257,\n",
       " '01111': 216}"
      ]
     },
     "execution_count": 5,
     "metadata": {},
     "output_type": "execute_result"
    }
   ],
   "source": [
    "qc = QuantumCircuit(5)\n",
    "qc.h(range(5))\n",
    "qc.measure_all()\n",
    "job = execute(qc, backend, shots=8192)\n",
    "result = job.result()\n",
    "result.get_counts()"
   ]
  },
  {
   "cell_type": "code",
   "execution_count": 6,
   "metadata": {},
   "outputs": [
    {
     "data": {
      "text/plain": [
       "{'00000': 297.85853713177846,\n",
       " '00001': 256.06568955091456,\n",
       " '00010': 302.7672022241931,\n",
       " '00011': 249.0949623621256,\n",
       " '00100': 254.78541739843297,\n",
       " '00101': 238.05980031253426,\n",
       " '00110': 270.19580097490046,\n",
       " '00111': 277.9606957377906,\n",
       " '01000': 232.24238649363974,\n",
       " '01001': 242.8806209826315,\n",
       " '01010': 271.9612842696503,\n",
       " '01011': 262.0111277462397,\n",
       " '01100': 265.2463729674075,\n",
       " '01101': 246.10456631125535,\n",
       " '01110': 279.40581503588993,\n",
       " '01111': 236.33897361264877,\n",
       " '10000': 266.28861433947003,\n",
       " '10001': 238.12627171170843,\n",
       " '10010': 271.05760133857456,\n",
       " '10011': 260.684306645077,\n",
       " '10100': 265.8367714592498,\n",
       " '10101': 269.3082102213193,\n",
       " '10110': 266.6304293537747,\n",
       " '10111': 244.37740233586948,\n",
       " '11000': 246.75499469971203,\n",
       " '11001': 245.55783975036388,\n",
       " '11010': 238.0430328987663,\n",
       " '11011': 242.74487211745048,\n",
       " '11100': 245.8451462469507,\n",
       " '11101': 206.16674306905205,\n",
       " '11110': 257.0316135757717,\n",
       " '11111': 244.566897124856}"
      ]
     },
     "execution_count": 6,
     "metadata": {},
     "output_type": "execute_result"
    }
   ],
   "source": [
    "backend_readout_error_mitigation(result, backend)"
   ]
  },
  {
   "cell_type": "markdown",
   "metadata": {},
   "source": [
    "## Readout Error"
   ]
  },
  {
   "cell_type": "code",
   "execution_count": 11,
   "metadata": {},
   "outputs": [
    {
     "data": {
      "text/plain": [
       "[{'00000': 7932,\n",
       "  '00001': 41,\n",
       "  '10000': 35,\n",
       "  '10001': 2,\n",
       "  '10100': 1,\n",
       "  '11000': 9,\n",
       "  '00010': 55,\n",
       "  '00011': 7,\n",
       "  '00100': 54,\n",
       "  '00101': 1,\n",
       "  '00111': 1,\n",
       "  '01000': 52,\n",
       "  '01001': 1,\n",
       "  '01100': 1},\n",
       " {'10001': 1,\n",
       "  '10010': 1,\n",
       "  '10011': 12,\n",
       "  '10101': 30,\n",
       "  '10110': 14,\n",
       "  '10111': 487,\n",
       "  '11001': 13,\n",
       "  '11010': 7,\n",
       "  '11011': 199,\n",
       "  '11100': 15,\n",
       "  '11101': 307,\n",
       "  '11110': 132,\n",
       "  '11111': 6748,\n",
       "  '00011': 1,\n",
       "  '00101': 2,\n",
       "  '00110': 1,\n",
       "  '00111': 24,\n",
       "  '01001': 1,\n",
       "  '01011': 8,\n",
       "  '01100': 1,\n",
       "  '01101': 6,\n",
       "  '01110': 3,\n",
       "  '01111': 179}]"
      ]
     },
     "execution_count": 11,
     "metadata": {},
     "output_type": "execute_result"
    }
   ],
   "source": [
    "n_qubits = backend.configuration().n_qubits\n",
    "qc0 = QuantumCircuit(n_qubits)\n",
    "qc0.measure_all()\n",
    "qc1 = QuantumCircuit(n_qubits)\n",
    "qc1.x(range(n_qubits))\n",
    "qc1.measure_all()\n",
    "job = execute([qc0, qc1], backend, shots=8192)\n",
    "result = job.result()\n",
    "result.get_counts()"
   ]
  },
  {
   "cell_type": "code",
   "execution_count": 12,
   "metadata": {},
   "outputs": [],
   "source": [
    "er01 = []\n",
    "for i in range(n_qubits):\n",
    "    marginal = marginal_counts(result.get_counts()[0], [i])\n",
    "    er01.append(marginal['1']/sum(marginal.values()))\n",
    "er10 = []\n",
    "for i in range(n_qubits):\n",
    "    marginal = marginal_counts(result.get_counts()[1], [i])\n",
    "    er10.append(marginal['0']/sum(marginal.values()))"
   ]
  },
  {
   "cell_type": "code",
   "execution_count": 13,
   "metadata": {},
   "outputs": [
    {
     "data": {
      "text/plain": [
       "([0.0064697265625,\n",
       "  0.0076904296875,\n",
       "  0.007080078125,\n",
       "  0.0076904296875,\n",
       "  0.0057373046875],\n",
       " [0.021240234375,\n",
       "  0.0458984375,\n",
       "  0.0296630859375,\n",
       "  0.0699462890625,\n",
       "  0.027587890625])"
      ]
     },
     "execution_count": 13,
     "metadata": {},
     "output_type": "execute_result"
    }
   ],
   "source": [
    "er01, er10"
   ]
  },
  {
   "cell_type": "code",
   "execution_count": 10,
   "metadata": {},
   "outputs": [
    {
     "data": {
      "text/plain": [
       "[0.010000000000000009,\n",
       " 0.038999999999999924,\n",
       " 0.01200000000000001,\n",
       " 0.019000000000000017,\n",
       " 0.018000000000000016]"
      ]
     },
     "execution_count": 10,
     "metadata": {},
     "output_type": "execute_result"
    }
   ],
   "source": [
    "[backend.properties().readout_error(i) for i in range(5)]"
   ]
  },
  {
   "cell_type": "code",
   "execution_count": 9,
   "metadata": {},
   "outputs": [
    {
     "data": {
      "text/plain": [
       "([0.006, 0.004, 0.004, 0.014, 0.012],\n",
       " [0.014000000000000012,\n",
       "  0.07399999999999995,\n",
       "  0.020000000000000018,\n",
       "  0.02400000000000002,\n",
       "  0.02400000000000002])"
      ]
     },
     "execution_count": 9,
     "metadata": {},
     "output_type": "execute_result"
    }
   ],
   "source": [
    "prob_meas0_prep1 = [backend.properties().qubit_property(i)['prob_meas0_prep1'][0] for i in range(5)]\n",
    "prob_meas1_prep0 = [backend.properties().qubit_property(i)['prob_meas1_prep0'][0] for i in range(5)]\n",
    "prob_meas1_prep0, prob_meas0_prep1"
   ]
  },
  {
   "cell_type": "code",
   "execution_count": null,
   "metadata": {},
   "outputs": [],
   "source": []
  }
 ],
 "metadata": {
  "kernelspec": {
   "display_name": "Python 3",
   "language": "python",
   "name": "python3"
  },
  "language_info": {
   "codemirror_mode": {
    "name": "ipython",
    "version": 3
   },
   "file_extension": ".py",
   "mimetype": "text/x-python",
   "name": "python",
   "nbconvert_exporter": "python",
   "pygments_lexer": "ipython3",
   "version": "3.8.5"
  }
 },
 "nbformat": 4,
 "nbformat_minor": 4
}
